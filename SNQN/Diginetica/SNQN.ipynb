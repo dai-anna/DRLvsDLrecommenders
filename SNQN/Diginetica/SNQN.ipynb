{
  "cells": [
    {
      "attachments": {},
      "cell_type": "markdown",
      "metadata": {},
      "source": [
        "# SNQN on Diginetica Dataset\n",
        "\n",
        "This notebook runs the Supervised Negative Q-learning (SNQN) model using SASRec on the Diginetica dataset. The dataset is available at **[here](https://competitions.codalab.org/competitions/11161#learn_the_details)**.\n",
        "\n",
        "For this implementation, we leverage the purchases and views data from Diginetica and the source code in the src folder is modified from the open-source code from the [Supervised Advantage Actor-Critic for Recommender Systems](https://arxiv.org/abs/2111.03474) paper.\n"
      ]
    },
    {
      "cell_type": "code",
      "execution_count": null,
      "metadata": {
        "colab": {
          "base_uri": "https://localhost:8080/"
        },
        "id": "E6wd1xpUJVYy",
        "outputId": "1083b479-8687-4359-be7b-08ba733009ce"
      },
      "outputs": [
        {
          "name": "stdout",
          "output_type": "stream",
          "text": [
            "Looking in indexes: https://pypi.org/simple, https://us-python.pkg.dev/colab-wheels/public/simple/\n",
            "Collecting trfl\n",
            "  Downloading trfl-1.2.0-py3-none-any.whl (104 kB)\n",
            "\u001b[K     |████████████████████████████████| 104 kB 35.2 MB/s \n",
            "\u001b[?25hRequirement already satisfied: dm-tree in /usr/local/lib/python3.8/dist-packages (from trfl) (0.1.7)\n",
            "Requirement already satisfied: six in /usr/local/lib/python3.8/dist-packages (from trfl) (1.15.0)\n",
            "Requirement already satisfied: numpy in /usr/local/lib/python3.8/dist-packages (from trfl) (1.21.6)\n",
            "Requirement already satisfied: wrapt in /usr/local/lib/python3.8/dist-packages (from trfl) (1.14.1)\n",
            "Requirement already satisfied: absl-py in /usr/local/lib/python3.8/dist-packages (from trfl) (1.3.0)\n",
            "Installing collected packages: trfl\n",
            "Successfully installed trfl-1.2.0\n"
          ]
        }
      ],
      "source": [
        "# !pip install tensorflow\n",
        "# !pip install trfl\n",
        "# !pip install tensorflow_probability"
      ]
    },
    {
      "cell_type": "code",
      "execution_count": 1,
      "metadata": {
        "colab": {
          "base_uri": "https://localhost:8080/"
        },
        "id": "Cfxnc_BCJXYH",
        "outputId": "8673cc3e-42f5-463a-d70d-3f558679f0b2"
      },
      "outputs": [
        {
          "name": "stdout",
          "output_type": "stream",
          "text": [
            "Mounted at /content/drive\n"
          ]
        }
      ],
      "source": [
        "from google.colab import drive\n",
        "drive.mount('/content/drive')"
      ]
    },
    {
      "cell_type": "code",
      "execution_count": null,
      "metadata": {
        "colab": {
          "base_uri": "https://localhost:8080/"
        },
        "id": "YplHwTlEUG7C",
        "outputId": "0cda9a0d-6f8b-4ce4-8d19-1d602d471f30"
      },
      "outputs": [
        {
          "name": "stdout",
          "output_type": "stream",
          "text": [
            "/content/drive/MyDrive/Duke/AIPI\n"
          ]
        }
      ],
      "source": [
        "%cd drive/MyDrive/Duke/AIPI/"
      ]
    },
    {
      "cell_type": "code",
      "execution_count": null,
      "metadata": {
        "id": "b4YozLMDUOsa"
      },
      "outputs": [],
      "source": [
        "# !git clone https://github.com/nogibjj/DRLrecommenders.git"
      ]
    },
    {
      "cell_type": "code",
      "execution_count": null,
      "metadata": {
        "colab": {
          "base_uri": "https://localhost:8080/"
        },
        "id": "sacHrfggVlqm",
        "outputId": "50177053-005e-4a30-8309-db0141373e61"
      },
      "outputs": [
        {
          "name": "stdout",
          "output_type": "stream",
          "text": [
            "/content/drive/MyDrive/Duke/AIPI/DRLrecommenders/AD/Diginetica\n"
          ]
        }
      ],
      "source": [
        "%cd DRLrecommenders/AD/Diginetica/"
      ]
    },
    {
      "cell_type": "code",
      "execution_count": null,
      "metadata": {
        "colab": {
          "base_uri": "https://localhost:8080/"
        },
        "id": "zexRn4xAVvXf",
        "outputId": "feb2ba87-f2c1-4b70-9001-ac4462ead6ff"
      },
      "outputs": [
        {
          "name": "stdout",
          "output_type": "stream",
          "text": [
            "\u001b[0m\u001b[01;34mdata\u001b[0m/  digit_SA2C.ipynb  digit_SNQN.ipynb  pop_dict.txt  report.txt  \u001b[01;34msrc\u001b[0m/\n"
          ]
        }
      ],
      "source": [
        "%ls"
      ]
    },
    {
      "cell_type": "code",
      "execution_count": null,
      "metadata": {
        "id": "vHl173xfJVY0"
      },
      "outputs": [],
      "source": [
        "import pandas as pd\n",
        "import numpy as np\n",
        "import os\n",
        "import warnings\n",
        "warnings.filterwarnings('ignore')\n"
      ]
    },
    {
      "cell_type": "code",
      "execution_count": null,
      "metadata": {
        "colab": {
          "base_uri": "https://localhost:8080/"
        },
        "id": "S5EumAU03g4h",
        "outputId": "b0eca9f0-a5e4-45d9-bc2e-aa81fb058068"
      },
      "outputs": [
        {
          "name": "stdout",
          "output_type": "stream",
          "text": [
            "/content/drive/MyDrive/Duke/AIPI/DRLrecommenders/AD/Diginetica\n"
          ]
        }
      ],
      "source": [
        "!python src/preprocess_dig.py"
      ]
    },
    {
      "cell_type": "code",
      "execution_count": null,
      "metadata": {
        "id": "QrOHiVoIJVY0"
      },
      "outputs": [],
      "source": [
        "!python src/split_data.py "
      ]
    },
    {
      "cell_type": "code",
      "execution_count": null,
      "metadata": {
        "colab": {
          "base_uri": "https://localhost:8080/"
        },
        "id": "VLgsm_UzJVY1",
        "outputId": "2ecd947c-aa10-494c-baa2-68be1927fb2d"
      },
      "outputs": [
        {
          "name": "stdout",
          "output_type": "stream",
          "text": [
            "TensorFlow 2.0 Upgrade Script\n",
            "-----------------------------\n",
            "Converted 1 files\n",
            "Detected 0 issues that require attention\n",
            "--------------------------------------------------------------------------------\n",
            "\n",
            "\n",
            "Make sure to read the detailed log 'report.txt'\n",
            "\n"
          ]
        }
      ],
      "source": [
        "# !tf_upgrade_v2 --infile src/replay_buffer.py --outfile src/replay_buffer.py"
      ]
    },
    {
      "cell_type": "code",
      "execution_count": null,
      "metadata": {
        "id": "XgiFO1KbJVY1"
      },
      "outputs": [],
      "source": [
        "!python src/replay_buffer.py"
      ]
    },
    {
      "cell_type": "code",
      "execution_count": null,
      "metadata": {
        "colab": {
          "base_uri": "https://localhost:8080/"
        },
        "id": "8VlFsQYBJVY2",
        "outputId": "f2512bc5-445f-49ce-f39f-1c6b1346c768"
      },
      "outputs": [
        {
          "name": "stdout",
          "output_type": "stream",
          "text": [
            "0.0\n",
            "1.0\n",
            "2.0\n",
            "3.0\n"
          ]
        }
      ],
      "source": [
        "!python src/pop.py"
      ]
    },
    {
      "cell_type": "code",
      "execution_count": null,
      "metadata": {
        "id": "bBxft7R-JVY3"
      },
      "outputs": [],
      "source": [
        "# !tf_upgrade_v2 --infile src/SNQN.py --outfile src/SNQN.py\n",
        "# !tf_upgrade_v2 --infile src/SA2C.py --outfile src/SA2C.py\n",
        "# !tf_upgrade_v2 --infile src/utility.py --outfile src/utility.py\n",
        "# !tf_upgrade_v2 --infile src/SASRecModules.py --outfile src/SASRecModules.py\n"
      ]
    },
    {
      "cell_type": "code",
      "execution_count": null,
      "metadata": {
        "colab": {
          "base_uri": "https://localhost:8080/"
        },
        "id": "jbucQpMx7F7K",
        "outputId": "96fa27ed-0c9b-4d03-c3d8-7981ec159747"
      },
      "outputs": [
        {
          "name": "stdout",
          "output_type": "stream",
          "text": [
            "[PhysicalDevice(name='/physical_device:GPU:0', device_type='GPU')]\n",
            "Built with cuda: <function is_built_with_cuda at 0x7efd7a9cddc0>\n",
            "2022-12-13 05:23:03.975574: W tensorflow/core/common_runtime/gpu/gpu_bfc_allocator.cc:42] Overriding orig_value setting because the TF_FORCE_GPU_ALLOW_GROWTH environment variable is set. Original config value was 0.\n",
            "/device:GPU:0\n",
            "#############################################################\n",
            "total clicks: 37245, total purchase:907\n",
            "~~~~~~~~~~~~~~~~~~~~~~~~~~~~~~~~~~~~~~~~~~~~~~~~~~~~~~~~~~~~~\n",
            "cumulative reward @ 5: 1.200000\n",
            "clicks hr ndcg @ 5 : 0.000161, 0.000097\n",
            "purchase hr and ndcg @5 : 0.000000, 0.000000\n",
            "~~~~~~~~~~~~~~~~~~~~~~~~~~~~~~~~~~~~~~~~~~~~~~~~~~~~~~~~~~~~~\n",
            "cumulative reward @ 10: 2.600000\n",
            "clicks hr ndcg @ 10 : 0.000215, 0.000116\n",
            "purchase hr and ndcg @10 : 0.001103, 0.000319\n",
            "~~~~~~~~~~~~~~~~~~~~~~~~~~~~~~~~~~~~~~~~~~~~~~~~~~~~~~~~~~~~~\n",
            "cumulative reward @ 15: 2.800000\n",
            "clicks hr ndcg @ 15 : 0.000242, 0.000123\n",
            "purchase hr and ndcg @15 : 0.001103, 0.000319\n",
            "~~~~~~~~~~~~~~~~~~~~~~~~~~~~~~~~~~~~~~~~~~~~~~~~~~~~~~~~~~~~~\n",
            "cumulative reward @ 20: 3.400000\n",
            "clicks hr ndcg @ 20 : 0.000322, 0.000142\n",
            "purchase hr and ndcg @20 : 0.001103, 0.000319\n",
            "#############################################################\n",
            "the loss in 200th batch is: 10.953558\n",
            "the loss in 400th batch is: 10.666004\n",
            "the loss in 600th batch is: 10.403492\n",
            "the loss in 800th batch is: 10.260014\n",
            "the loss in 1000th batch is: 10.063100\n",
            "the loss in 1200th batch is: 10.190681\n",
            "the loss in 1400th batch is: 9.874676\n",
            "the loss in 1600th batch is: 10.065552\n",
            "the loss in 1800th batch is: 9.676903\n",
            "the loss in 2000th batch is: 9.389709\n",
            "the loss in 2200th batch is: 9.400837\n",
            "the loss in 2400th batch is: 9.185020\n",
            "the loss in 2600th batch is: 9.223298\n",
            "the loss in 2800th batch is: 8.969351\n",
            "the loss in 3000th batch is: 8.871526\n",
            "the loss in 3200th batch is: 8.743587\n",
            "the loss in 3400th batch is: 8.622122\n",
            "the loss in 3600th batch is: 8.318530\n",
            "the loss in 3800th batch is: 8.148026\n",
            "the loss in 4000th batch is: 8.028470\n",
            "#############################################################\n",
            "total clicks: 37245, total purchase:907\n",
            "~~~~~~~~~~~~~~~~~~~~~~~~~~~~~~~~~~~~~~~~~~~~~~~~~~~~~~~~~~~~~\n",
            "cumulative reward @ 5: 1246.400000\n",
            "clicks hr ndcg @ 5 : 0.143697, 0.105809\n",
            "purchase hr and ndcg @5 : 0.194046, 0.149394\n",
            "~~~~~~~~~~~~~~~~~~~~~~~~~~~~~~~~~~~~~~~~~~~~~~~~~~~~~~~~~~~~~\n",
            "cumulative reward @ 10: 1539.800000\n",
            "clicks hr ndcg @ 10 : 0.179997, 0.117577\n",
            "purchase hr and ndcg @10 : 0.219405, 0.157500\n",
            "~~~~~~~~~~~~~~~~~~~~~~~~~~~~~~~~~~~~~~~~~~~~~~~~~~~~~~~~~~~~~\n",
            "cumulative reward @ 15: 1716.000000\n",
            "clicks hr ndcg @ 15 : 0.201638, 0.123298\n",
            "purchase hr and ndcg @15 : 0.235943, 0.161933\n",
            "~~~~~~~~~~~~~~~~~~~~~~~~~~~~~~~~~~~~~~~~~~~~~~~~~~~~~~~~~~~~~\n",
            "cumulative reward @ 20: 1835.400000\n",
            "clicks hr ndcg @ 20 : 0.216459, 0.126799\n",
            "purchase hr and ndcg @20 : 0.245865, 0.164334\n",
            "#############################################################\n",
            "the loss in 4200th batch is: 8.149649\n",
            "the loss in 4400th batch is: 7.727309\n",
            "the loss in 4600th batch is: 8.080154\n",
            "the loss in 4800th batch is: 8.108611\n",
            "the loss in 5000th batch is: 7.938408\n",
            "the loss in 5200th batch is: 7.848200\n",
            "the loss in 5400th batch is: 7.219173\n",
            "the loss in 5600th batch is: 7.482296\n",
            "the loss in 5800th batch is: 7.651661\n",
            "the loss in 6000th batch is: 7.221895\n",
            "the loss in 6200th batch is: 7.360714\n",
            "the loss in 6400th batch is: 6.669014\n",
            "the loss in 6600th batch is: 7.441916\n",
            "the loss in 6800th batch is: 7.259175\n",
            "the loss in 7000th batch is: 6.589190\n",
            "the loss in 7200th batch is: 6.964028\n",
            "the loss in 7400th batch is: 7.029068\n",
            "the loss in 7600th batch is: 6.566687\n",
            "the loss in 7800th batch is: 6.673628\n",
            "the loss in 8000th batch is: 6.801166\n",
            "#############################################################\n",
            "total clicks: 37245, total purchase:907\n",
            "~~~~~~~~~~~~~~~~~~~~~~~~~~~~~~~~~~~~~~~~~~~~~~~~~~~~~~~~~~~~~\n",
            "cumulative reward @ 5: 1526.000000\n",
            "clicks hr ndcg @ 5 : 0.177071, 0.126571\n",
            "purchase hr and ndcg @5 : 0.228225, 0.180892\n",
            "~~~~~~~~~~~~~~~~~~~~~~~~~~~~~~~~~~~~~~~~~~~~~~~~~~~~~~~~~~~~~\n",
            "cumulative reward @ 10: 1921.800000\n",
            "clicks hr ndcg @ 10 : 0.226312, 0.142499\n",
            "purchase hr and ndcg @10 : 0.260198, 0.191117\n",
            "~~~~~~~~~~~~~~~~~~~~~~~~~~~~~~~~~~~~~~~~~~~~~~~~~~~~~~~~~~~~~\n",
            "cumulative reward @ 15: 2139.800000\n",
            "clicks hr ndcg @ 15 : 0.253027, 0.149581\n",
            "purchase hr and ndcg @15 : 0.281147, 0.196631\n",
            "~~~~~~~~~~~~~~~~~~~~~~~~~~~~~~~~~~~~~~~~~~~~~~~~~~~~~~~~~~~~~\n",
            "cumulative reward @ 20: 2288.600000\n",
            "clicks hr ndcg @ 20 : 0.272198, 0.154109\n",
            "purchase hr and ndcg @20 : 0.287762, 0.198220\n",
            "#############################################################\n",
            "the loss in 8200th batch is: 6.607111\n",
            "the loss in 8400th batch is: 6.613666\n",
            "the loss in 8600th batch is: 6.242489\n",
            "the loss in 8800th batch is: 6.500835\n",
            "the loss in 9000th batch is: 6.564990\n",
            "the loss in 9200th batch is: 6.211337\n",
            "the loss in 9400th batch is: 6.263894\n",
            "the loss in 9600th batch is: 5.835216\n",
            "the loss in 9800th batch is: 5.974318\n",
            "the loss in 10000th batch is: 6.081003\n",
            "the loss in 10200th batch is: 5.956187\n",
            "the loss in 10400th batch is: 5.973273\n",
            "the loss in 10600th batch is: 6.045619\n",
            "the loss in 10800th batch is: 6.110636\n",
            "the loss in 11000th batch is: 5.824057\n",
            "the loss in 11200th batch is: 5.855185\n",
            "the loss in 11400th batch is: 5.799674\n",
            "the loss in 11600th batch is: 5.622057\n",
            "the loss in 11800th batch is: 5.789581\n",
            "the loss in 12000th batch is: 5.853058\n",
            "#############################################################\n",
            "total clicks: 37245, total purchase:907\n",
            "~~~~~~~~~~~~~~~~~~~~~~~~~~~~~~~~~~~~~~~~~~~~~~~~~~~~~~~~~~~~~\n",
            "cumulative reward @ 5: 1570.600000\n",
            "clicks hr ndcg @ 5 : 0.181447, 0.127849\n",
            "purchase hr and ndcg @5 : 0.241455, 0.178121\n",
            "~~~~~~~~~~~~~~~~~~~~~~~~~~~~~~~~~~~~~~~~~~~~~~~~~~~~~~~~~~~~~\n",
            "cumulative reward @ 10: 1993.600000\n",
            "clicks hr ndcg @ 10 : 0.233266, 0.144691\n",
            "purchase hr and ndcg @10 : 0.282249, 0.191278\n",
            "~~~~~~~~~~~~~~~~~~~~~~~~~~~~~~~~~~~~~~~~~~~~~~~~~~~~~~~~~~~~~\n",
            "cumulative reward @ 15: 2238.000000\n",
            "clicks hr ndcg @ 15 : 0.263794, 0.152787\n",
            "purchase hr and ndcg @15 : 0.300992, 0.196295\n",
            "~~~~~~~~~~~~~~~~~~~~~~~~~~~~~~~~~~~~~~~~~~~~~~~~~~~~~~~~~~~~~\n",
            "cumulative reward @ 20: 2398.200000\n",
            "clicks hr ndcg @ 20 : 0.283823, 0.157525\n",
            "purchase hr and ndcg @20 : 0.313120, 0.199141\n",
            "#############################################################\n",
            "the loss in 12200th batch is: 5.562651\n",
            "the loss in 12400th batch is: 6.100700\n",
            "the loss in 12600th batch is: 5.453835\n",
            "the loss in 12800th batch is: 5.535278\n",
            "the loss in 13000th batch is: 5.333699\n",
            "the loss in 13200th batch is: 5.384092\n",
            "the loss in 13400th batch is: 5.390550\n",
            "the loss in 13600th batch is: 5.458068\n",
            "the loss in 13800th batch is: 5.623701\n",
            "the loss in 14000th batch is: 5.035943\n",
            "the loss in 14200th batch is: 5.385962\n",
            "the loss in 14400th batch is: 5.097917\n",
            "the loss in 14600th batch is: 5.220313\n",
            "the loss in 14800th batch is: 4.998909\n",
            "the loss in 15000th batch is: 5.117694\n",
            "the loss in 15200th batch is: 5.198964\n",
            "the loss in 15400th batch is: 5.230806\n",
            "the loss in 15600th batch is: 5.064043\n",
            "the loss in 15800th batch is: 5.210258\n",
            "the loss in 16000th batch is: 5.116806\n",
            "#############################################################\n",
            "total clicks: 37245, total purchase:907\n",
            "~~~~~~~~~~~~~~~~~~~~~~~~~~~~~~~~~~~~~~~~~~~~~~~~~~~~~~~~~~~~~\n",
            "cumulative reward @ 5: 1542.200000\n",
            "clicks hr ndcg @ 5 : 0.179246, 0.124797\n",
            "purchase hr and ndcg @5 : 0.228225, 0.167330\n",
            "~~~~~~~~~~~~~~~~~~~~~~~~~~~~~~~~~~~~~~~~~~~~~~~~~~~~~~~~~~~~~\n",
            "cumulative reward @ 10: 1990.800000\n",
            "clicks hr ndcg @ 10 : 0.234636, 0.142716\n",
            "purchase hr and ndcg @10 : 0.267916, 0.180273\n",
            "~~~~~~~~~~~~~~~~~~~~~~~~~~~~~~~~~~~~~~~~~~~~~~~~~~~~~~~~~~~~~\n",
            "cumulative reward @ 15: 2225.400000\n",
            "clicks hr ndcg @ 15 : 0.264250, 0.150558\n",
            "purchase hr and ndcg @15 : 0.283352, 0.184348\n",
            "~~~~~~~~~~~~~~~~~~~~~~~~~~~~~~~~~~~~~~~~~~~~~~~~~~~~~~~~~~~~~\n",
            "cumulative reward @ 20: 2366.400000\n",
            "clicks hr ndcg @ 20 : 0.282105, 0.154779\n",
            "purchase hr and ndcg @20 : 0.292172, 0.186410\n",
            "#############################################################\n",
            "the loss in 16200th batch is: 5.027206\n",
            "the loss in 16400th batch is: 5.194255\n",
            "the loss in 16600th batch is: 5.180553\n",
            "the loss in 16800th batch is: 4.990218\n",
            "the loss in 17000th batch is: 5.036296\n",
            "the loss in 17200th batch is: 5.254300\n",
            "the loss in 17400th batch is: 4.984735\n",
            "Time to run 15 epochs: 64.54 minutes\n"
          ]
        }
      ],
      "source": [
        "import time\n",
        "\n",
        "tac = time.time()\n",
        "\n",
        "!python src/SNQN.py --model=SASRec --epoch=15\n",
        "\n",
        "tic = time.time()\n",
        "print(f\"Time to run 15 epochs: {np.round((tic-tac)/60,2)} minutes\")"
      ]
    },
    {
      "cell_type": "code",
      "execution_count": null,
      "metadata": {
        "colab": {
          "base_uri": "https://localhost:8080/"
        },
        "id": "E10sFbG4JVY3",
        "outputId": "7d533367-91eb-4ad0-fbfe-37d4b897b702"
      },
      "outputs": [
        {
          "name": "stdout",
          "output_type": "stream",
          "text": [
            "[PhysicalDevice(name='/physical_device:GPU:0', device_type='GPU')]\n",
            "Built with cuda: <function is_built_with_cuda at 0x7f3572bb0dc0>\n",
            "2022-12-13 03:01:06.433052: W tensorflow/core/common_runtime/gpu/gpu_bfc_allocator.cc:42] Overriding orig_value setting because the TF_FORCE_GPU_ALLOW_GROWTH environment variable is set. Original config value was 0.\n",
            "/device:GPU:0\n",
            "#############################################################\n",
            "total clicks: 80148, total purchase:1450\n",
            "~~~~~~~~~~~~~~~~~~~~~~~~~~~~~~~~~~~~~~~~~~~~~~~~~~~~~~~~~~~~~\n",
            "cumulative reward @ 5: 1.200000\n",
            "clicks hr ndcg @ 5 : 0.000075, 0.000035\n",
            "purchase hr and ndcg @5 : 0.000000, 0.000000\n",
            "~~~~~~~~~~~~~~~~~~~~~~~~~~~~~~~~~~~~~~~~~~~~~~~~~~~~~~~~~~~~~\n",
            "cumulative reward @ 10: 1.800000\n",
            "clicks hr ndcg @ 10 : 0.000112, 0.000048\n",
            "purchase hr and ndcg @10 : 0.000000, 0.000000\n",
            "~~~~~~~~~~~~~~~~~~~~~~~~~~~~~~~~~~~~~~~~~~~~~~~~~~~~~~~~~~~~~\n",
            "cumulative reward @ 15: 3.000000\n",
            "clicks hr ndcg @ 15 : 0.000187, 0.000067\n",
            "purchase hr and ndcg @15 : 0.000000, 0.000000\n",
            "~~~~~~~~~~~~~~~~~~~~~~~~~~~~~~~~~~~~~~~~~~~~~~~~~~~~~~~~~~~~~\n",
            "cumulative reward @ 20: 3.800000\n",
            "clicks hr ndcg @ 20 : 0.000237, 0.000079\n",
            "purchase hr and ndcg @20 : 0.000000, 0.000000\n",
            "#############################################################\n",
            "the loss in 200th batch is: 10.751352\n",
            "the loss in 400th batch is: 10.363740\n",
            "the loss in 600th batch is: 10.318515\n",
            "the loss in 800th batch is: 10.122766\n",
            "the loss in 1000th batch is: 10.260697\n",
            "the loss in 1200th batch is: 10.039106\n",
            "the loss in 1400th batch is: 9.787413\n",
            "the loss in 1600th batch is: 9.739280\n",
            "the loss in 1800th batch is: 9.680190\n",
            "the loss in 2000th batch is: 9.842301\n",
            "the loss in 2200th batch is: 9.433807\n",
            "the loss in 2400th batch is: 9.516355\n",
            "Time to run one epoch: 846.4219648838043 seconds\n"
          ]
        }
      ],
      "source": [
        "# import time\n",
        "\n",
        "# tac = time.time()\n",
        "\n",
        "# !python src/SNQN.py --model=SASRec --epoch=1\n",
        "\n",
        "# tic = time.time()\n",
        "# print(f\"Time to run one epoch: {tic-tac} seconds\")"
      ]
    },
    {
      "cell_type": "code",
      "execution_count": null,
      "metadata": {
        "id": "cLINbOJ-JVY3"
      },
      "outputs": [],
      "source": []
    }
  ],
  "metadata": {
    "accelerator": "GPU",
    "colab": {
      "provenance": []
    },
    "gpuClass": "premium",
    "kernelspec": {
      "display_name": "base",
      "language": "python",
      "name": "python3"
    },
    "language_info": {
      "codemirror_mode": {
        "name": "ipython",
        "version": 3
      },
      "file_extension": ".py",
      "mimetype": "text/x-python",
      "name": "python",
      "nbconvert_exporter": "python",
      "pygments_lexer": "ipython3",
      "version": "3.9.7 | packaged by conda-forge | (default, Sep 29 2021, 19:24:02) \n[Clang 11.1.0 ]"
    },
    "orig_nbformat": 4,
    "vscode": {
      "interpreter": {
        "hash": "80eb2a9e4ae1ee407f73e896670b694e999463bb60730fe1b6fe7b4af8b9f631"
      }
    }
  },
  "nbformat": 4,
  "nbformat_minor": 0
}
